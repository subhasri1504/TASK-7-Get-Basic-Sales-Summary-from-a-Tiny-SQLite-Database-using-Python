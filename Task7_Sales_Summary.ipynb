{
 "cells": [
  {
   "cell_type": "markdown",
   "id": "c45ed4ac",
   "metadata": {},
   "source": [
    "\n",
    "# Task 7 — Basic Sales Summary (SQLite + Python)\n",
    "\n",
    "This notebook:\n",
    "- Connects to a tiny SQLite database (`sales_data.db`)\n",
    "- Runs 1–2 SQL queries from Python\n",
    "- Displays results and plots a **basic bar chart** using matplotlib\n",
    "\n",
    "> Tip: Run cells sequentially from top to bottom.\n"
   ]
  },
  {
   "cell_type": "markdown",
   "id": "7d436546",
   "metadata": {},
   "source": [
    "\n",
    "## 1) Setup (once per environment)\n",
    "Uncomment and run this cell if you need to install dependencies.\n"
   ]
  },
  {
   "cell_type": "code",
   "execution_count": null,
   "id": "7e99f901",
   "metadata": {},
   "outputs": [],
   "source": [
    "\n",
    "# !pip install pandas matplotlib\n"
   ]
  },
  {
   "cell_type": "markdown",
   "id": "018aafb5",
   "metadata": {},
   "source": [
    "\n",
    "## 2) Imports & Database Path\n",
    "We use Python's built-in `sqlite3` plus `pandas` and `matplotlib`.\n"
   ]
  },
  {
   "cell_type": "code",
   "execution_count": null,
   "id": "8bd3990e",
   "metadata": {},
   "outputs": [],
   "source": [
    "\n",
    "import sqlite3\n",
    "import pandas as pd\n",
    "import matplotlib.pyplot as plt\n",
    "from pathlib import Path\n",
    "\n",
    "DB_PATH = Path.cwd() / \"sales_data.db\"\n",
    "print(\"DB exists:\", DB_PATH.exists(), \"\\nPath:\", DB_PATH)\n"
   ]
  },
  {
   "cell_type": "markdown",
   "id": "008da8ed",
   "metadata": {},
   "source": [
    "\n",
    "## 3) Query: Revenue by Product\n",
    "This SQL aggregates total quantity and revenue per product.\n"
   ]
  },
  {
   "cell_type": "code",
   "execution_count": null,
   "id": "d5ba0cdc",
   "metadata": {},
   "outputs": [],
   "source": [
    "\n",
    "conn = sqlite3.connect(DB_PATH)\n",
    "\n",
    "query = '''\n",
    "SELECT \n",
    "    product,\n",
    "    SUM(quantity) AS total_qty,\n",
    "    SUM(quantity * price) AS revenue\n",
    "FROM sales\n",
    "GROUP BY product\n",
    "ORDER BY revenue DESC\n",
    "'''\n",
    "df = pd.read_sql_query(query, conn)\n",
    "df\n"
   ]
  },
  {
   "cell_type": "markdown",
   "id": "723c6595",
   "metadata": {},
   "source": [
    "\n",
    "## 4) Overall Totals\n",
    "Quick check of overall quantity and revenue.\n"
   ]
  },
  {
   "cell_type": "code",
   "execution_count": null,
   "id": "44960479",
   "metadata": {},
   "outputs": [],
   "source": [
    "\n",
    "totals_q = \"SELECT SUM(quantity) AS total_qty, SUM(quantity*price) AS total_revenue FROM sales\"\n",
    "totals = pd.read_sql_query(totals_q, conn)\n",
    "totals\n"
   ]
  },
  {
   "cell_type": "markdown",
   "id": "df498c87",
   "metadata": {},
   "source": [
    "\n",
    "## 5) Plot: Revenue by Product\n",
    "A simple bar chart (no special styles or colors).\n"
   ]
  },
  {
   "cell_type": "code",
   "execution_count": null,
   "id": "756790ac",
   "metadata": {},
   "outputs": [],
   "source": [
    "\n",
    "plt.figure()\n",
    "plt.bar(df[\"product\"], df[\"revenue\"])\n",
    "plt.xlabel(\"Product\")\n",
    "plt.ylabel(\"Revenue\")\n",
    "plt.title(\"Revenue by Product\")\n",
    "plt.xticks(rotation=45, ha=\"right\")\n",
    "plt.tight_layout()\n",
    "\n",
    "# Save the chart alongside the notebook\n",
    "out_path = Path.cwd() / \"sales_chart.png\"\n",
    "plt.savefig(out_path)\n",
    "print(\"Saved chart to:\", out_path)\n"
   ]
  },
  {
   "cell_type": "code",
   "execution_count": null,
   "id": "f72c600a",
   "metadata": {},
   "outputs": [],
   "source": [
    "\n",
    "conn.close()\n",
    "print(\"Connection closed.\")\n"
   ]
  }
 ],
 "metadata": {},
 "nbformat": 4,
 "nbformat_minor": 5
}
